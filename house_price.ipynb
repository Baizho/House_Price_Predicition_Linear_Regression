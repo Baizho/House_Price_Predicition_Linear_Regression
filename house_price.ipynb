{
 "cells": [
  {
   "cell_type": "code",
   "execution_count": null,
   "id": "d9c87371-76cf-4cd5-ac91-e1a3d6ee8b05",
   "metadata": {},
   "outputs": [],
   "source": []
  },
  {
   "cell_type": "code",
   "execution_count": 2,
   "id": "af60b44e-ea05-4fe5-a625-9c9e4b59c646",
   "metadata": {},
   "outputs": [
    {
     "name": "stdout",
     "output_type": "stream",
     "text": [
      "        price  area  bedrooms  bathrooms  stories mainroad guestroom basement  \\\n",
      "0    13300000  7420         4          2        3      yes        no       no   \n",
      "1    12250000  8960         4          4        4      yes        no       no   \n",
      "2    12250000  9960         3          2        2      yes        no      yes   \n",
      "3    12215000  7500         4          2        2      yes        no      yes   \n",
      "4    11410000  7420         4          1        2      yes       yes      yes   \n",
      "..        ...   ...       ...        ...      ...      ...       ...      ...   \n",
      "540   1820000  3000         2          1        1      yes        no      yes   \n",
      "541   1767150  2400         3          1        1       no        no       no   \n",
      "542   1750000  3620         2          1        1      yes        no       no   \n",
      "543   1750000  2910         3          1        1       no        no       no   \n",
      "544   1750000  3850         3          1        2      yes        no       no   \n",
      "\n",
      "    hotwaterheating airconditioning  parking prefarea furnishingstatus  \n",
      "0                no             yes        2      yes        furnished  \n",
      "1                no             yes        3       no        furnished  \n",
      "2                no              no        2      yes   semi-furnished  \n",
      "3                no             yes        3      yes        furnished  \n",
      "4                no             yes        2       no        furnished  \n",
      "..              ...             ...      ...      ...              ...  \n",
      "540              no              no        2       no      unfurnished  \n",
      "541              no              no        0       no   semi-furnished  \n",
      "542              no              no        0       no      unfurnished  \n",
      "543              no              no        0       no        furnished  \n",
      "544              no              no        0       no      unfurnished  \n",
      "\n",
      "[545 rows x 13 columns]\n",
      "194.9098923647605 108.23596716021231\n",
      "3.4191332162844623\n"
     ]
    },
    {
     "data": {
      "text/plain": [
       "[<matplotlib.lines.Line2D at 0x2bb6da5a0d0>]"
      ]
     },
     "execution_count": 2,
     "metadata": {},
     "output_type": "execute_result"
    },
    {
     "data": {
      "image/png": "[encoded data removed]",
      "text/plain": [
       "<Figure size 640x480 with 1 Axes>"
      ]
     },
     "metadata": {},
     "output_type": "display_data"
    }
   ],
   "source": [
    "import numpy as np\n",
    "import matplotlib.pyplot as plt\n",
    "import pandas as pd\n",
    "\n",
    "data_set = pd.read_csv('Downloads/Housing.csv')\n",
    "print(data_set)\n",
    "\n",
    "# x = np.array(data_set.loc[:, 'area'].copy(), dtype = \"float64\")\n",
    "# y = np.array(data_set.loc[:, 'price'].copy(), dtype = \"float64\")\n",
    "\n",
    "x = [1, 2]\n",
    "y = [300, 500]\n",
    "\n",
    "# for i in range(0, len(y)):\n",
    "#     y[i] //= 1000\n",
    "\n",
    "# print(x, y)\n",
    "\n",
    "def f(x, w, b):\n",
    "    return x * w + b\n",
    "    \n",
    "def compute_model_output(x, w, b):\n",
    "    m = len(x)\n",
    "    y = []\n",
    "    for i in range (0, m):\n",
    "        y.append(f(x[i], w, b))\n",
    "    return y\n",
    "    \n",
    "def cost(x, y, w, b):\n",
    "    m = len(x)\n",
    "    res = 0\n",
    "    for i in range (0, m):\n",
    "        res += (f(x[i], w, b) - y[i])**2;\n",
    "    res /= 2 * m\n",
    "    return res\n",
    "\n",
    "def dw_cost(x, y, w, b):\n",
    "    m = len(y)\n",
    "    res = 0\n",
    "    for i in range (0, m):\n",
    "        res += (f(x[i], w, b) - y[i]) * x[i]\n",
    "    res /= m\n",
    "    return res\n",
    "    \n",
    "def db_cost(x, y, w, b):\n",
    "    m = len(y)\n",
    "    res = 0\n",
    "    for i in range (0, m):\n",
    "        res += (f(x[i], w, b) - y[i]);\n",
    "    res /= m\n",
    "    return res\n",
    "    \n",
    "w = np.float64(0)\n",
    "b = np.float64(0)\n",
    "alpha = np.float64(1.0e-3)\n",
    "iteration = 0\n",
    "while iteration < 10000 and cost(x, y, w, b) > 0.00000001:\n",
    "    nw = w - alpha * dw_cost(x, y, w, b)\n",
    "    nb = b - alpha * db_cost(x, y, w, b)\n",
    "    w = nw\n",
    "    b = nb\n",
    "    iteration += 1\n",
    "print(w, b)\n",
    "plt.title(\"Housing Prices\")\n",
    "plt.ylabel('Price (in 1000s of dollars)')\n",
    "plt.xlabel('Size (1000 sqft)')\n",
    "\n",
    "model_y = compute_model_output(x, w, b)\n",
    "print(cost(x, y, w, b))\n",
    "plt.scatter(x, y, marker = \"x\", c = \"g\")\n",
    "plt.plot(x, model_y, c = \"r\")"
   ]
  },
  {
   "cell_type": "code",
   "execution_count": 3,
   "id": "50ba2e3f-0082-4f3e-94fb-ded1f183e39d",
   "metadata": {},
   "outputs": [
    {
     "name": "stdin",
     "output_type": "stream",
     "text": [
      "Enter house size 1.5\n"
     ]
    },
    {
     "name": "stdout",
     "output_type": "stream",
     "text": [
      "400.60080570735306\n"
     ]
    }
   ],
   "source": [
    "x = float(input(\"Enter house size\"))\n",
    "print(f(x, w, b))\n",
    "\n",
    "plt.show()"
   ]
  },
  {
   "cell_type": "code",
   "execution_count": null,
   "id": "8a86114b-4a1c-474c-b363-73edc8869f5c",
   "metadata": {},
   "outputs": [],
   "source": []
  },
  {
   "cell_type": "code",
   "execution_count": null,
   "id": "53d72347-49fe-4a2f-823a-08a715fa2a03",
   "metadata": {},
   "outputs": [],
   "source": []
  },
  {
   "cell_type": "code",
   "execution_count": null,
   "id": "af4bac54-ab0c-4119-b9ca-b42ce9e4dedb",
   "metadata": {},
   "outputs": [],
   "source": []
  },
  {
   "cell_type": "code",
   "execution_count": null,
   "id": "742586e3-b360-424c-b9ee-0be132d29cd8",
   "metadata": {},
   "outputs": [],
   "source": []
  },
  {
   "cell_type": "code",
   "execution_count": null,
   "id": "a9608ad3-320e-4377-bc57-a85d9035f565",
   "metadata": {},
   "outputs": [],
   "source": []
  }
 ],
 "metadata": {
  "kernelspec": {
   "display_name": "Python 3 (ipykernel)",
   "language": "python",
   "name": "python3"
  },
  "language_info": {
   "codemirror_mode": {
    "name": "ipython",
    "version": 3
   },
   "file_extension": ".py",
   "mimetype": "text/x-python",
   "name": "python",
   "nbconvert_exporter": "python",
   "pygments_lexer": "ipython3",
   "version": "3.11.4"
  }
 },
 "nbformat": 4,
 "nbformat_minor": 5
}
